{
  "nbformat": 4,
  "nbformat_minor": 0,
  "metadata": {
    "colab": {
      "name": "Class Assignment.ipynb",
      "provenance": []
    },
    "kernelspec": {
      "name": "python3",
      "display_name": "Python 3"
    },
    "language_info": {
      "name": "python"
    }
  },
  "cells": [
    {
      "cell_type": "markdown",
      "source": [
        "1.Write a Python program find a list of integers with exactly two occurrences of nineteen and at least three occurrences of five.\n",
        "\n",
        "Input: [19, 19, 5, 5, 5, 5, 5]\n",
        "Output:\n",
        "True\n",
        "\n",
        "Input: [19, 15, 15, 5, 3, 3, 5, 2]\n",
        "Output:\n",
        "False"
      ],
      "metadata": {
        "id": "jjIC14RsOCs3"
      }
    },
    {
      "cell_type": "code",
      "execution_count": null,
      "metadata": {
        "colab": {
          "base_uri": "https://localhost:8080/"
        },
        "id": "gx4-48lfN8ev",
        "outputId": "526fbffc-e3ab-4d95-d745-f785ae1d3360"
      },
      "outputs": [
        {
          "output_type": "stream",
          "name": "stdout",
          "text": [
            "Enter the elements in list a = 19,19,5,5,5,5,5\n",
            "False\n"
          ]
        }
      ],
      "source": [
        "p=input(\"Enter the elements in list a = \")\n",
        "a=[]\n",
        "if a.count(19)==2 and a.count(5)<=3:\n",
        "  print(\"True\")\n",
        "else:\n",
        "  print(\"False\")"
      ]
    },
    {
      "cell_type": "markdown",
      "source": [
        "2.Write a Python program that accept a list of integers and check the length and the fifth element. Return true if the length of the list is 8 and fifth element occurs thrice in the said list. \n",
        "\n",
        "Input:\n",
        "[19, 19, 15, 5, 5, 5, 1, 2]\n",
        "Output:\n",
        "True\n",
        "\n",
        "Input:\n",
        "[19, 15, 5, 7, 5, 5, 2]\n",
        "Output:\n",
        "False"
      ],
      "metadata": {
        "id": "cbt0S5yGOmHI"
      }
    },
    {
      "cell_type": "code",
      "source": [
        "a=[19,19,15,5,5,5,1,2]"
      ],
      "metadata": {
        "id": "VK2XZiudO9HJ"
      },
      "execution_count": null,
      "outputs": []
    },
    {
      "cell_type": "markdown",
      "source": [
        "3.Write a Python program to split a string of words separated by commas and spaces into two lists, words and separators. \n",
        "\n",
        "Input: The dance, held in the school gym, ended at midnight.\n",
        "\n",
        "Output:\n",
        "[['The', 'dance', 'held', 'in', 'the', 'school', 'gym', 'ended', 'at', 'midnight.'], [' ', ', ', ' ', ' ', ' ', ' ', ', ', ' ', ' ']]"
      ],
      "metadata": {
        "id": "k1AkUWeAO-Yy"
      }
    },
    {
      "cell_type": "code",
      "source": [
        ""
      ],
      "metadata": {
        "id": "Y8-LE8BIPKvR"
      },
      "execution_count": null,
      "outputs": []
    },
    {
      "cell_type": "markdown",
      "source": [
        "4.Write a Python program to find missing numbers from a list. \n",
        "\n",
        "Input : [1,2,3,4,6,7,10]\n",
        "\n",
        "Output : [5, 8, 9]"
      ],
      "metadata": {
        "id": "flj2AbtEPLDl"
      }
    },
    {
      "cell_type": "code",
      "source": [
        "a=[1,2,3,4,6,7,10]\n",
        "b=[]\n",
        "for i in range(a[0],a[6]):\n",
        "    if i not in a:\n",
        "        b.append(i)\n",
        "print(b)"
      ],
      "metadata": {
        "colab": {
          "base_uri": "https://localhost:8080/"
        },
        "id": "a2SvCVY4PSP2",
        "outputId": "2de8a324-a571-4ed1-edda-e038aef10952"
      },
      "execution_count": null,
      "outputs": [
        {
          "output_type": "stream",
          "name": "stdout",
          "text": [
            "[5, 8, 9]\n"
          ]
        }
      ]
    },
    {
      "cell_type": "markdown",
      "source": [
        "5.Write a Python program to push all zeros to the end of a list. \n",
        "\n",
        "Input : [0,2,3,4,6,7,10]\n",
        "\n",
        "Output : [2, 3, 4, 6, 7, 10, 0]"
      ],
      "metadata": {
        "id": "ZeozVYiIPS_-"
      }
    },
    {
      "cell_type": "code",
      "source": [
        "a=[0,0,0,0,0,0,2,3,4,0,0,0,0,6,7,10]\n",
        "for i in a:\n",
        "    if (i==0):\n",
        "      a.remove(i)\n",
        "      a.append(i)\n",
        "print(a)\n",
        "\n"
      ],
      "metadata": {
        "colab": {
          "base_uri": "https://localhost:8080/"
        },
        "id": "y-5VpBKEPadN",
        "outputId": "ccd19b8e-8c8d-4e1e-f2ab-cdecd255a77d"
      },
      "execution_count": null,
      "outputs": [
        {
          "output_type": "stream",
          "name": "stdout",
          "text": [
            "[2, 3, 4, 6, 7, 10, 0, 0, 0, 0, 0, 0, 0, 0, 0, 0]\n"
          ]
        }
      ]
    },
    {
      "cell_type": "code",
      "source": [
        "var1 = \" The dance, held in the school gym, ended at midnight\"\n",
        "list1 = []\n",
        "list2 = []\n",
        "list3 = []\n",
        "list4 = []\n",
        "\n",
        "var2 = var1.split(\",\")\n",
        "print(var2)\n",
        "\n",
        "for i in range(len(var2)):\n",
        "  list2.append(\",\")\n",
        "print(list2)\n",
        "\n",
        "for i in var2:\n",
        "  list1.append(i.split(\" \"))\n",
        "print(list1)\n",
        "\n",
        "for i in list1:\n",
        "  for j in i:\n",
        "    if j.isalpha() == True:\n",
        "      list3.append(j)\n",
        "    else:\n",
        "      list4.append(j)\n",
        "print(\"List1 :-\",list3,\"\\nlist2:- \",list4+list2)\n"
      ],
      "metadata": {
        "colab": {
          "base_uri": "https://localhost:8080/"
        },
        "id": "_cxwaZ1LtgTL",
        "outputId": "cf35b8e2-8955-4c88-ea27-80e8abbf0dd3"
      },
      "execution_count": null,
      "outputs": [
        {
          "output_type": "stream",
          "name": "stdout",
          "text": [
            "[' The dance', ' held in the school gym', ' ended at midnight']\n",
            "[',', ',', ',']\n",
            "[['', 'The', 'dance'], ['', 'held', 'in', 'the', 'school', 'gym'], ['', 'ended', 'at', 'midnight']]\n",
            "List1 :- ['The', 'dance', 'held', 'in', 'the', 'school', 'gym', 'ended', 'at', 'midnight'] \n",
            "list2:-  ['', '', '', ',', ',', ',']\n"
          ]
        }
      ]
    }
  ]
}