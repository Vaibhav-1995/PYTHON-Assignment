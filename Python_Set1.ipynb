{
  "nbformat": 4,
  "nbformat_minor": 0,
  "metadata": {
    "colab": {
      "name": "Python Set1.ipynb",
      "provenance": []
    },
    "kernelspec": {
      "name": "python3",
      "display_name": "Python 3"
    },
    "language_info": {
      "name": "python"
    }
  },
  "cells": [
    {
      "cell_type": "markdown",
      "source": [
        "**Given a list, write a Python program to swap first and last element of the list.**\n",
        "\n",
        "Examples: \n",
        "\n",
        "Input : [12, 35, 9, 56, 24]\n",
        "Output : [24, 35, 9, 56, 12]\n",
        "\n",
        "Input : [1, 2, 3]\n",
        "Output : [3, 2, 1]"
      ],
      "metadata": {
        "id": "1G_7uHE05XKx"
      }
    },
    {
      "cell_type": "code",
      "execution_count": 4,
      "metadata": {
        "id": "BO1OPx_e5Q4z",
        "colab": {
          "base_uri": "https://localhost:8080/"
        },
        "outputId": "7c2e71a2-3731-4bf5-9bfb-4a0827305280"
      },
      "outputs": [
        {
          "output_type": "stream",
          "name": "stdout",
          "text": [
            "[24, 35, 9, 56, 12]\n"
          ]
        }
      ],
      "source": [
        "def swapList(newList):\n",
        "    size = len(newList)\n",
        "     \n",
        "    # Swapping\n",
        "    temp = newList[0]\n",
        "    newList[0] = newList[size - 1]\n",
        "    newList[size - 1] = temp\n",
        "     \n",
        "    return newList\n",
        "\n",
        "newList = [12, 35, 9, 56, 24]\n",
        " \n",
        "print(swapList(newList))"
      ]
    },
    {
      "cell_type": "markdown",
      "source": [
        "**WAP to find length of list**\n",
        "\n",
        "The list is : [1, 4, 5, 7, 8]\n",
        "\n",
        "Length of list is : 5"
      ],
      "metadata": {
        "id": "GMvSPgWX5VhB"
      }
    },
    {
      "cell_type": "code",
      "source": [
        "a = [1,4,5,7,8]\n",
        "cnt=0\n",
        "for i in a:\n",
        "  cnt+=1\n",
        "print(\"Length of list is :\",cnt)"
      ],
      "metadata": {
        "colab": {
          "base_uri": "https://localhost:8080/"
        },
        "id": "D7wErCik5x6f",
        "outputId": "685aa4c6-bc1a-483d-dab5-471de1fdf425"
      },
      "execution_count": null,
      "outputs": [
        {
          "output_type": "stream",
          "name": "stdout",
          "text": [
            "Length of list is : 5\n"
          ]
        }
      ]
    },
    {
      "cell_type": "markdown",
      "source": [
        "**WAP to Check if element exists in list**\n",
        "\n",
        "Checking if 4 exists in list : \n",
        "\n",
        "Element Exists\n"
      ],
      "metadata": {
        "id": "Lb9TC1eb55Z5"
      }
    },
    {
      "cell_type": "code",
      "source": [
        "a=[1.5,6,7]\n",
        "if 4 in a:\n",
        "  print(\"Element Exists\")\n",
        "else:\n",
        "  print(\"Element not Exists\")\n"
      ],
      "metadata": {
        "colab": {
          "base_uri": "https://localhost:8080/"
        },
        "id": "pNVA8snG546f",
        "outputId": "00ef7ab8-2ee2-46c9-b6b7-3cb78c597807"
      },
      "execution_count": null,
      "outputs": [
        {
          "output_type": "stream",
          "name": "stdout",
          "text": [
            "Element not Exists\n"
          ]
        }
      ]
    },
    {
      "cell_type": "markdown",
      "source": [
        "**WAP to clear a list**\n",
        "\n",
        "before clear: [6, 0, 4, 1]\n",
        "\n",
        "after clear : []"
      ],
      "metadata": {
        "id": "il5zuxVN54e2"
      }
    },
    {
      "cell_type": "code",
      "source": [
        "b= [6, 0, 4, 1]\n",
        "del b[:]\n",
        "print(b)"
      ],
      "metadata": {
        "colab": {
          "base_uri": "https://localhost:8080/"
        },
        "id": "MWgjg2gp6NmL",
        "outputId": "289ab6b1-2dc0-41d9-da2a-eea4e283d88f"
      },
      "execution_count": null,
      "outputs": [
        {
          "output_type": "stream",
          "name": "stdout",
          "text": [
            "[]\n"
          ]
        }
      ]
    },
    {
      "cell_type": "code",
      "source": [
        "b= [6, 0, 4, 1]\n",
        "b.clear()\n",
        "print(b)"
      ],
      "metadata": {
        "colab": {
          "base_uri": "https://localhost:8080/"
        },
        "id": "cg4pwQSAL13Z",
        "outputId": "e65dfa35-05d0-4567-c0f1-0dafbe3a39f9"
      },
      "execution_count": null,
      "outputs": [
        {
          "output_type": "stream",
          "name": "stdout",
          "text": [
            "[]\n"
          ]
        }
      ]
    },
    {
      "cell_type": "code",
      "source": [
        "b= [6, 0, 4, 1]\n",
        "b*=0\n",
        "print(b)"
      ],
      "metadata": {
        "id": "HH-bM2Z9MTqP",
        "outputId": "d62d75b9-f516-4b13-8ae4-60b6c82cfd68",
        "colab": {
          "base_uri": "https://localhost:8080/"
        }
      },
      "execution_count": null,
      "outputs": [
        {
          "output_type": "stream",
          "name": "stdout",
          "text": [
            "[]\n"
          ]
        }
      ]
    },
    {
      "cell_type": "markdown",
      "source": [
        "**WAP to Reversing a List**\n",
        "\n",
        "Input : list = [10, 11, 12, 13, 14, 15]\n",
        "\n",
        "Output : [15, 14, 13, 12, 11, 10]\n",
        " \n",
        "Input : list = [4, 5, 6, 7, 8, 9]\n",
        "\n",
        "Output : [9, 8, 7, 6, 5, 4]\n"
      ],
      "metadata": {
        "id": "Jl7ZAZd06mef"
      }
    },
    {
      "cell_type": "code",
      "source": [
        "a = [10, 11, 12, 13, 14, 15]\n",
        "a.reverse\n",
        "print(a)"
      ],
      "metadata": {
        "colab": {
          "base_uri": "https://localhost:8080/"
        },
        "id": "MWh1LlC267Iw",
        "outputId": "501b6451-d0a1-48e6-e7b5-f89d002c2f09"
      },
      "execution_count": null,
      "outputs": [
        {
          "output_type": "stream",
          "name": "stdout",
          "text": [
            "[10, 11, 12, 13, 14, 15]\n"
          ]
        }
      ]
    },
    {
      "cell_type": "markdown",
      "source": [
        "**Given a list of numbers, write a Python program to find the sum of all the elements in the list.**\n",
        "\n",
        "Example:\n",
        " \n",
        "Input: [12, 15, 3, 10]\n",
        "\n",
        "Output: 40\n",
        " \n",
        "Input: [17, 5, 3, 5]\n",
        "\n",
        "Output: 30\n"
      ],
      "metadata": {
        "id": "dsIXAPha675g"
      }
    },
    {
      "cell_type": "code",
      "source": [
        ""
      ],
      "metadata": {
        "id": "dVjZNBOH7Wb0"
      },
      "execution_count": null,
      "outputs": []
    },
    {
      "cell_type": "markdown",
      "source": [
        "**Given a list of numbers, the task is to write a Python program to find the second largest number in the given list.**\n",
        "\n",
        "Examples:\n",
        "\n",
        "Input: list1 = [10, 20, 4]\n",
        "\n",
        "Output: 10\n",
        "\n",
        "Input: list2 = [70, 11, 20, 4, 100]\n",
        "\n",
        "Output: 70\n"
      ],
      "metadata": {
        "id": "N0VMN0O17XOk"
      }
    },
    {
      "cell_type": "code",
      "source": [
        ""
      ],
      "metadata": {
        "id": "qiMzv6OE7mge"
      },
      "execution_count": null,
      "outputs": []
    },
    {
      "cell_type": "markdown",
      "source": [
        "**Given a list of integers, the task is to find N largest elements assuming size of list is greater than or equal o N.**\n",
        "\n",
        "Examples :\n",
        "\n",
        "Input : [4, 5, 1, 2, 9]  \n",
        "         N = 2\n",
        "\n",
        "Output :  [9, 5]\n",
        " \n",
        "Input : [81, 52, 45, 10, 3, 2, 96]  \n",
        "        N = 3\n",
        "\n",
        "Output : [81, 96, 52]\n"
      ],
      "metadata": {
        "id": "p4YoAVRZ7nDj"
      }
    },
    {
      "cell_type": "code",
      "source": [
        ""
      ],
      "metadata": {
        "id": "FILC7dDb77nO"
      },
      "execution_count": null,
      "outputs": []
    },
    {
      "cell_type": "markdown",
      "source": [
        "**Given a list of numbers, write a Python program to remove multiple elements from a list based on the given condition.**\n",
        "\n",
        "Example:\n",
        "\n",
        "Input: [12, 15, 3, 10]\n",
        "\n",
        "Output: Remove = [12, 3], New_List = [15, 10]\n",
        " \n",
        "Input: [11, 5, 17, 18, 23, 50]\n",
        "\n",
        "Output: Remove = [1:5], New_list = [11, 50]\n",
        "\n",
        "---------------------------------------------------------\n",
        "Input : lst = [15, 6, 7, 10, 12, 20, 10, 28, 10] \n",
        "         x = 10\n",
        "\n",
        "Output : 3\n",
        "\n",
        "10 appears three times in given list.\n",
        " \n",
        "Input : lst = [8, 6, 8, 10, 8, 20, 10, 8, 8] \n",
        "        x = 16\n",
        "\n",
        "Output : 0\n",
        "\n"
      ],
      "metadata": {
        "id": "OQls4plV778f"
      }
    },
    {
      "cell_type": "code",
      "source": [
        ""
      ],
      "metadata": {
        "id": "kmjpy8hS8Shx"
      },
      "execution_count": null,
      "outputs": []
    },
    {
      "cell_type": "markdown",
      "source": [
        "**Given a list of integers with duplicate elements in it. The task to generate another list, which contains only the duplicate elements. In simple words, the new list should contain the elements which appear more than one.**\n",
        "\n",
        "Examples :\n",
        "\n",
        "Input : list = [10, 20, 30, 20, 20, 30, 40, 50, -20, 60, 60, -20, -20]\n",
        "\n",
        "Output : output_list = [20, 30, -20, 60]\n",
        " \n",
        " \n",
        "Input :  list = [-1, 1, -1, 8]\n",
        "\n",
        "Output : output_list = [-1]\n"
      ],
      "metadata": {
        "id": "YJD4O6KX8TKp"
      }
    },
    {
      "cell_type": "code",
      "source": [
        ""
      ],
      "metadata": {
        "id": "T0xfBXpg820W"
      },
      "execution_count": null,
      "outputs": []
    },
    {
      "cell_type": "markdown",
      "source": [
        "**Python program to find Cumulative sum of a list\n",
        "The problem statement asks to produce a new list whose i^{th} element will be equal to the sum of the (i + 1) elements.**\n",
        "\n",
        "Examples :\n",
        " \n",
        "Input : list = [10, 20, 30, 40, 50]\n",
        "\n",
        "Output : [10, 30, 60, 100, 150]\n",
        " \n",
        "Input : list = [4, 10, 15, 18, 20]\n",
        "\n",
        "Output : [4, 14, 29, 47, 67]\n"
      ],
      "metadata": {
        "id": "ieieq4E683Rr"
      }
    },
    {
      "cell_type": "code",
      "source": [
        "list1 = [10, 20, 30, 40, 50]\n",
        "a=0\n",
        "list2=[]\n",
        "for i in range(0,len(list1)):\n",
        "    a+=list1[i]\n",
        "    list2.append(a)\n",
        "print(list2)"
      ],
      "metadata": {
        "id": "6q0LvbVF9TDu",
        "colab": {
          "base_uri": "https://localhost:8080/"
        },
        "outputId": "b2964bc2-09b0-4634-eefe-e457cccb10d4"
      },
      "execution_count": null,
      "outputs": [
        {
          "output_type": "stream",
          "name": "stdout",
          "text": [
            "[10, 30, 60, 100, 150]\n"
          ]
        }
      ]
    },
    {
      "cell_type": "code",
      "source": [
        "list1 = [10, 20, 30, 40, 50]\n",
        "list2=[]\n",
        "for i in range(0,len(list1)):\n",
        "    if i!=0:\n",
        "        a=list2[i-1]+list1[i]\n",
        "        list2.append(a)\n",
        "    else:\n",
        "        list2.append(list1[i])\n",
        "\n",
        "print(list2)"
      ],
      "metadata": {
        "colab": {
          "base_uri": "https://localhost:8080/"
        },
        "id": "b3hfBOwnmmjB",
        "outputId": "399091de-b26d-47aa-971a-5f46e523d399"
      },
      "execution_count": null,
      "outputs": [
        {
          "output_type": "stream",
          "name": "stdout",
          "text": [
            "[10, 30, 60, 100, 150]\n"
          ]
        }
      ]
    },
    {
      "cell_type": "markdown",
      "source": [
        "**Break a list into chunks of size N in Python**\n",
        "\n",
        "Input: [1, 2, 3, 4, 5,6, 7, 8, 9]\n",
        "\n",
        "Output: [[1, 2, 3, 4], [5, 6, 7, 8], [9]]\n"
      ],
      "metadata": {
        "id": "ez59ITXQ9TsV"
      }
    },
    {
      "cell_type": "code",
      "source": [
        "a=[1,2,3,4,5]\n",
        "b=[6,7,8,9,10]\n"
      ],
      "metadata": {
        "id": "e1xGJZdX9asF"
      },
      "execution_count": null,
      "outputs": []
    },
    {
      "cell_type": "markdown",
      "source": [
        "**Remove common elements from two list in Python**"
      ],
      "metadata": {
        "id": "67sO-Xdz9bia"
      }
    },
    {
      "cell_type": "code",
      "source": [
        "def remove_common(a, b):\n",
        "  \n",
        "    for i in a[:]:\n",
        "        if i in b:\n",
        "            a.remove(i)\n",
        "            b.remove(i)\n",
        "  \n",
        "    print(\"list1 : \", a)\n",
        "    print(\"list2 : \", b)\n",
        "\n",
        "if __name__ == \"__main__\":\n",
        "  \n",
        "    a = [1, 2, 3, 4, 5]\n",
        "    b = [4, 5, 6, 7, 8]\n",
        "  \n",
        "    remove_common(a, b)"
      ],
      "metadata": {
        "id": "lCu-H39W9gUB",
        "colab": {
          "base_uri": "https://localhost:8080/"
        },
        "outputId": "669ff181-d3fd-451b-bdfd-20f88877d99e"
      },
      "execution_count": 8,
      "outputs": [
        {
          "output_type": "stream",
          "name": "stdout",
          "text": [
            "list1 :  [1, 2, 3]\n",
            "list2 :  [6, 7, 8]\n"
          ]
        }
      ]
    }
  ]
}