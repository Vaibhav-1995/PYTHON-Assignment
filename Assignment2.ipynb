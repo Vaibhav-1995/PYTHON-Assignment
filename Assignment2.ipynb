{
  "nbformat": 4,
  "nbformat_minor": 0,
  "metadata": {
    "colab": {
      "name": "Assignment2.ipynb",
      "provenance": [],
      "collapsed_sections": []
    },
    "kernelspec": {
      "name": "python3",
      "display_name": "Python 3"
    },
    "language_info": {
      "name": "python"
    }
  },
  "cells": [
    {
      "cell_type": "markdown",
      "source": [
        "Q1. Write a Python program to print the following string in a specific format (see the\n",
        "output)."
      ],
      "metadata": {
        "id": "sp10c5RSV99r"
      }
    },
    {
      "cell_type": "code",
      "source": [
        "print(\"Twinkle, twinkle, little star\\n\\tHow I wonder what you are!\\n\\t\\tUp above the world so high,\\n\\t\\tLike a diamond in the sky.\\nTwinkle, twinkle, little star,\\n\\tHow I wonder what you are\")\n"
      ],
      "metadata": {
        "colab": {
          "base_uri": "https://localhost:8080/"
        },
        "id": "2zI1zky_LRGA",
        "outputId": "d26334bd-0496-49cd-9a22-a5d72d68818d"
      },
      "execution_count": null,
      "outputs": [
        {
          "output_type": "stream",
          "name": "stdout",
          "text": [
            "Twinkle, twinkle, little star\n",
            "\tHow I wonder what you are!\n",
            "\t\tUp above the world so high,\n",
            "\t\tLike a diamond in the sky.\n",
            "Twinkle, twinkle, little star,\n",
            "\tHow I wonder what you are\n"
          ]
        }
      ]
    },
    {
      "cell_type": "markdown",
      "source": [
        "Q4. Write a Python program to get the Python version you are using."
      ],
      "metadata": {
        "id": "Z2GTnpd9V38w"
      }
    },
    {
      "cell_type": "code",
      "source": [
        "r=float(input(\"Enter radius of a circle\"))\n",
        "pi=3.14\n",
        "a=pi*r**2\n",
        "print(a)"
      ],
      "metadata": {
        "colab": {
          "base_uri": "https://localhost:8080/"
        },
        "id": "GjuHiJfFOwpr",
        "outputId": "052735f4-7548-4b14-954b-f5050937e774"
      },
      "execution_count": null,
      "outputs": [
        {
          "output_type": "stream",
          "name": "stdout",
          "text": [
            "Enter radius of a circle1.1\n",
            "3.7994000000000008\n"
          ]
        }
      ]
    },
    {
      "cell_type": "markdown",
      "source": [
        "Q5. Write a Python program which accepts the user's first and last name and print\n",
        "them in reverse order with a space between them."
      ],
      "metadata": {
        "id": "o04CGB4qWNi0"
      }
    },
    {
      "cell_type": "code",
      "source": [
        "firstname=input(\"Enter first name\")\n",
        "lastname=input(\"Enter last name\")\n",
        "firstname,lastname=lastname,firstname\n",
        "print(firstname,lastname)\n",
        "\n"
      ],
      "metadata": {
        "colab": {
          "base_uri": "https://localhost:8080/"
        },
        "id": "zZSiButjQTSw",
        "outputId": "bf50645c-1f2b-4311-d86a-bc9d5fab163c"
      },
      "execution_count": null,
      "outputs": [
        {
          "output_type": "stream",
          "name": "stdout",
          "text": [
            "Enter first namevaibhav\n",
            "Enter last nameingulkar\n",
            "ingulkar vaibhav\n"
          ]
        }
      ]
    },
    {
      "cell_type": "markdown",
      "source": [
        "Q6. Write a Python program which accepts a sequence of comma-separated\n",
        "numbers from user and generate a list and a tuple with those numbers.\n",
        "Output :\n",
        "List : ['3', ' 5', ' 7', ' 23']\n",
        "Tuple : ('3', ' 5', ' 7', ' 23')\n"
      ],
      "metadata": {
        "id": "FWoPk05cR7v3"
      }
    },
    {
      "cell_type": "code",
      "source": [
        "a=int(input(\"Enter the numbers:\"))\n",
        "d=str(a)\n",
        "b=d.split()  #split is used for string only\n",
        "print(b)\n",
        "c=tuple(b)\n",
        "print(c)\n"
      ],
      "metadata": {
        "colab": {
          "base_uri": "https://localhost:8080/"
        },
        "id": "3GwUAk2YR-f6",
        "outputId": "5e61b244-120d-45b5-b3a2-128fa77ef937"
      },
      "execution_count": null,
      "outputs": [
        {
          "output_type": "stream",
          "name": "stdout",
          "text": [
            "Enter the numbers:123456\n",
            "['123456']\n",
            "('123456',)\n"
          ]
        }
      ]
    },
    {
      "cell_type": "markdown",
      "source": [
        "Q7. Write a Python program to accept a filename from the user and print the\n",
        "extension of that."
      ],
      "metadata": {
        "id": "80m6MspDTWsy"
      }
    },
    {
      "cell_type": "code",
      "source": [
        "a=input(\"Enter the file name:\")\n",
        "b=a.split('.')\n",
        "print(b[-1])"
      ],
      "metadata": {
        "colab": {
          "base_uri": "https://localhost:8080/"
        },
        "id": "NHz3ObQoTXqq",
        "outputId": "52dad2dd-6e41-4932-c9a8-225bf245e7d1"
      },
      "execution_count": null,
      "outputs": [
        {
          "output_type": "stream",
          "name": "stdout",
          "text": [
            "Enter the file namepic.jpge\n",
            "jpge\n"
          ]
        }
      ]
    },
    {
      "cell_type": "markdown",
      "source": [
        "Q8. Write a Python program to display the first and last colors from the following\n",
        "list. color_list = [\"Red\",\"Green\",\"White\" ,\"Black\"]"
      ],
      "metadata": {
        "id": "1YNeS2v0VfI5"
      }
    },
    {
      "cell_type": "code",
      "source": [
        "color_list = [\"Red\",\"Green\",\"White\" ,\"Black\"]\n",
        "print(color_list[0],color_list[-1])"
      ],
      "metadata": {
        "colab": {
          "base_uri": "https://localhost:8080/"
        },
        "id": "ajZLgOy-VhkS",
        "outputId": "9a27e6d3-03cd-4f74-8cbd-51c0b7cd98a6"
      },
      "execution_count": null,
      "outputs": [
        {
          "output_type": "stream",
          "name": "stdout",
          "text": [
            "Red Black\n"
          ]
        }
      ]
    },
    {
      "cell_type": "markdown",
      "source": [
        "Q9. Write a Python program to display the examination schedule."
      ],
      "metadata": {
        "id": "YG_jkrHtXmJI"
      }
    },
    {
      "cell_type": "code",
      "source": [
        ""
      ],
      "metadata": {
        "id": "R3-2giJ9XwUr"
      },
      "execution_count": null,
      "outputs": []
    }
  ]
}